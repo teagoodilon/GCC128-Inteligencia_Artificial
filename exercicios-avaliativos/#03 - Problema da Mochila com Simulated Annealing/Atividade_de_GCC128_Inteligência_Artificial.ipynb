{
  "nbformat": 4,
  "nbformat_minor": 0,
  "metadata": {
    "colab": {
      "provenance": []
    },
    "kernelspec": {
      "name": "python3",
      "display_name": "Python 3"
    },
    "language_info": {
      "name": "python"
    }
  },
  "cells": [
    {
      "cell_type": "markdown",
      "source": [
        "\n",
        "# > O problema da mochila com Simulated Annealing\n",
        "> Atividade de GCC128 - Inteligência Artificial\n",
        "\n",
        "\n",
        "Aluno: Thiago Odilon de Almeida - 202021025"
      ],
      "metadata": {
        "id": "hK8uFaWDXeWV"
      }
    },
    {
      "cell_type": "markdown",
      "source": [
        "Para a resolução do problema da Mochila 0-1 optei por usar a linguagem python pela facilidade que tenho com a linguagem e também pela rápida implementação  de gráficos com a biblioteca matplotlib."
      ],
      "metadata": {
        "id": "EAOOyyCEeIf6"
      }
    },
    {
      "cell_type": "markdown",
      "source": [
        "## Funcionamento do código e estratégias adotadas"
      ],
      "metadata": {
        "id": "ZCssszpvgxu9"
      }
    },
    {
      "cell_type": "markdown",
      "source": [
        "Seguindo as orientações do projeto, o primeiro passo foi **definir o item como uma Classe** e também **definir os itens disponíveis**.\n",
        "\n"
      ],
      "metadata": {
        "id": "xIZFkh9Kg5jF"
      }
    },
    {
      "cell_type": "code",
      "source": [
        "class Item:\n",
        "  def __init__(self, peso, valor):\n",
        "    self.peso = peso\n",
        "    self.valor = valor"
      ],
      "metadata": {
        "id": "lSZXAkvdz7-T"
      },
      "execution_count": null,
      "outputs": []
    },
    {
      "cell_type": "code",
      "source": [
        "items = []\n",
        "for i in range(20):\n",
        "  x = Item(random.randint(1,20), random.randint(1,20))\n",
        "  items.append(x)"
      ],
      "metadata": {
        "id": "sqCtXjx-00BM"
      },
      "execution_count": null,
      "outputs": []
    },
    {
      "cell_type": "markdown",
      "source": [
        "Logo em seguida, devemos fazer a inicialização aleatória que não exceda a capacidade da mochila e para ajudar no fator aleatório utilizei a biblioteca random. É importante ressaltar que o programa faz a quantidade de tentativas de inserção dos itens aleatóriamente seguindo o tamanho da mochila, para que ele não entre em um possível loop, assim temos o atributo *mochilaGlobal* que é a definição da capacidade que a mochila pode carregar.\n"
      ],
      "metadata": {
        "id": "KYlh69mv1o_d"
      }
    },
    {
      "cell_type": "code",
      "source": [
        "mochilaGlobal = 50"
      ],
      "metadata": {
        "id": "mJo67dEYCBIZ"
      },
      "execution_count": null,
      "outputs": []
    },
    {
      "cell_type": "code",
      "source": [
        "import random\n",
        "\n",
        "def iniciaAleatorio(items):\n",
        "  tamAtual = 0\n",
        "  solucao = []\n",
        "  cont = 0\n",
        "  while(mochilaGlobal >= tamAtual and cont < mochilaGlobal):\n",
        "    cont = cont + 1\n",
        "    item = random.choice(items)\n",
        "    if(item.peso + tamAtual <= mochilaGlobal):\n",
        "      solucao.append(item)\n",
        "      tamAtual = tamAtual + item.peso\n",
        "\n",
        "  return solucao\n",
        "\n",
        "solucao = iniciaAleatorio(items)"
      ],
      "metadata": {
        "id": "Cr58bV4g2BZX"
      },
      "execution_count": null,
      "outputs": []
    },
    {
      "cell_type": "markdown",
      "source": [
        "Após isso, fiz a função de avaliação que calcula o valor e peso da solução."
      ],
      "metadata": {
        "id": "FAu4GdBwAUK-"
      }
    },
    {
      "cell_type": "code",
      "source": [
        "def calculaPesoEValor(vetor):\n",
        "  pesoTotal = 0\n",
        "  valorTotal = 0\n",
        "  for i in range(len(vetor)):\n",
        "    pesoTotal = pesoTotal + vetor[i].peso\n",
        "    valorTotal = valorTotal + vetor[i].valor\n",
        "\n",
        "  return pesoTotal, valorTotal"
      ],
      "metadata": {
        "id": "DY-idtoxASbm"
      },
      "execution_count": null,
      "outputs": []
    },
    {
      "cell_type": "markdown",
      "source": [
        "Agora vamos definir as funções e atributos necessários para o simulated annealing, criamos uma função que gera uma nova solução fazendo uma pequena alteração na solução atual."
      ],
      "metadata": {
        "id": "yzhm7zuQ9RaN"
      }
    },
    {
      "cell_type": "code",
      "source": [
        "def novaSolucao(solucao):\n",
        "  solucao_vizinha = solucao.copy()\n",
        "  item2 = random.choice(solucao_vizinha)\n",
        "  solucao_vizinha.remove(item2)\n",
        "  for i in range(len(items)):\n",
        "    item = random.choice(items)\n",
        "    if(item.peso + calculaPesoEValor(solucao_vizinha)[0] <= mochilaGlobal):\n",
        "      solucao_vizinha.append(item)\n",
        "      return solucao_vizinha\n",
        "\n",
        "  return solucao_vizinha"
      ],
      "metadata": {
        "id": "MKzlStQf_vHb"
      },
      "execution_count": null,
      "outputs": []
    },
    {
      "cell_type": "markdown",
      "source": [
        "Seguindo as instruções é pedida a comparação de que se o valor da nova solução é maior que a antiga, devemos aceita-la com a nova solução atual e caso não seja faremos o cálculo do erro e retornaremos se mesmo assim a troca será feita."
      ],
      "metadata": {
        "id": "8Uq-2kLSOBQk"
      }
    },
    {
      "cell_type": "code",
      "source": [
        "import math\n",
        "\n",
        "def comparaVizinho(solucao, solucao_nova, temperatura):\n",
        "  nova = calculaPesoEValor(solucao_nova)\n",
        "  atual =  calculaPesoEValor(solucao)\n",
        "  if(nova[1] > atual[1] and nova[0] <= mochilaGlobal):\n",
        "    return True\n",
        "  else:\n",
        "    delta = nova[1] - atual[1]\n",
        "    prob = round(math.exp(delta/temperatura), 4)\n",
        "    retorno = random.random() < prob\n",
        "    return retorno"
      ],
      "metadata": {
        "id": "0G5Np_vYN_8K"
      },
      "execution_count": null,
      "outputs": []
    },
    {
      "cell_type": "markdown",
      "source": [
        "Após definir as funções auxiliares, podemos fazer nosso laço principal do Simulated Annealing que conta também com o acrescímo na temperatura atual e faz todo o esquema de comparações, em que se o vizinho for uma opção melhor que a atual ele altera a atual para ficar igual a do vizinho e após isso compara para ver se ela é melhor que a melhor solução que temos. Mas para isso primeiro necessário definir os seguinte atributos:\n",
        "\n",
        "*   Temperatura final e inicial\n",
        "*   Taxa de resfriamento\n"
      ],
      "metadata": {
        "id": "KEZ5MjBDRNxn"
      }
    },
    {
      "cell_type": "code",
      "source": [
        "tempInicial = 0.1\n",
        "tempFinal = 1.0\n",
        "taxaResfriamento = 1.01"
      ],
      "metadata": {
        "id": "QVsyAI6cgsZK"
      },
      "execution_count": null,
      "outputs": []
    },
    {
      "cell_type": "markdown",
      "source": [
        "Dentro da função principal, coloquei também os dados necessários pra plotagem no gráfico."
      ],
      "metadata": {
        "id": "NGaUdQlBve1y"
      }
    },
    {
      "cell_type": "code",
      "source": [
        "import matplotlib.pyplot as plt\n",
        "\n",
        "def simulatedAnnealing(tempInicial, tempFinal, taxaResfriamento):\n",
        "  solucao = iniciaAleatorio(items)\n",
        "  melhor_solucao = solucao.copy()\n",
        "  plotTabela = []\n",
        "  temps = []\n",
        "  plt.xlabel('Temperatura atual')\n",
        "  plt.ylabel('Melhor Valor da Solução')\n",
        "  plt.title('Grafíco com valor das melhores soluçoes')\n",
        "\n",
        "  while tempInicial < tempFinal:\n",
        "    vizinho = novaSolucao(solucao)\n",
        "    if(comparaVizinho(solucao, vizinho, tempInicial)):\n",
        "      solucao = vizinho.copy()\n",
        "\n",
        "    if(calculaPesoEValor(solucao)[1] > calculaPesoEValor(melhor_solucao)[1]):\n",
        "      melhor_solucao = solucao.copy()\n",
        "\n",
        "    plotTabela.append(calculaPesoEValor(solucao)[1])\n",
        "    temps.append(tempInicial)\n",
        "    plt.plot(temps, plotTabela)\n",
        "    tempInicial = tempInicial * taxaResfriamento\n",
        "\n",
        "  return melhor_solucao"
      ],
      "metadata": {
        "id": "fduq2CYNQVjP"
      },
      "execution_count": null,
      "outputs": []
    },
    {
      "cell_type": "markdown",
      "source": [
        "Dessa forma obtemos assim uma possível melhor solucao utilizando o algoritmo."
      ],
      "metadata": {
        "id": "6XV-ukZXgQ5k"
      }
    },
    {
      "cell_type": "code",
      "source": [
        "resultado = simulatedAnnealing(tempInicial, tempFinal, taxaResfriamento)"
      ],
      "metadata": {
        "colab": {
          "base_uri": "https://localhost:8080/",
          "height": 472
        },
        "id": "uCuhQ5LGgW2n",
        "outputId": "60b0b9ab-6452-466e-9899-43bdcdaa57d0"
      },
      "execution_count": null,
      "outputs": [
        {
          "output_type": "display_data",
          "data": {
            "text/plain": [
              "<Figure size 640x480 with 1 Axes>"
            ],
            "image/png": "[encoded data removed]"
          },
          "metadata": {}
        }
      ]
    },
    {
      "cell_type": "markdown",
      "source": [
        "De forma nítida podemos perceber que quanto mais a temperatura chega perto da temperatura final, a escolha de um vizinho \"ruim\" acontece mais vezes, tal fato auxilia muito para que seja possível \"dar 1 passo para trás para que depois seja dado 2 passos pra frente\".\n",
        "\n",
        "\n",
        "\n"
      ],
      "metadata": {
        "id": "jd1DRHDyhUsp"
      }
    }
  ]
}