{
  "nbformat": 4,
  "nbformat_minor": 0,
  "metadata": {
    "colab": {
      "provenance": [],
      "history_visible": true
    },
    "kernelspec": {
      "name": "python3",
      "display_name": "Python 3"
    },
    "language_info": {
      "name": "python"
    }
  },
  "cells": [
    {
      "cell_type": "markdown",
      "source": [
        "# > O problema do Caixeiro Viajante (Traveling Salesman Problem - TSP) utilizando Algoritmos Genéticos\n",
        "\n",
        "Atividade de GCC128 - Inteligência Artificial\n",
        "\n",
        "Aluno: Thiago Odilon de Almeida - 202021025"
      ],
      "metadata": {
        "id": "ptCpP6xTkMCV"
      }
    },
    {
      "cell_type": "markdown",
      "source": [
        "Seguindo as diretrizes de Implementação, primeiro criamos uma função para gerar uma população inicial de rotas de forma aleatória."
      ],
      "metadata": {
        "id": "tuRz9nxpsYER"
      }
    },
    {
      "cell_type": "code",
      "source": [
        "import numpy as np"
      ],
      "metadata": {
        "id": "ECcEwbkF0wn-"
      },
      "execution_count": null,
      "outputs": []
    },
    {
      "cell_type": "code",
      "source": [
        "def geraPopulacao(nCidades, tamPopulacao):\n",
        "    populacao = []\n",
        "    for i in range(tamPopulacao):\n",
        "        rota = np.random.permutation(nCidades)\n",
        "        populacao.append(rota)\n",
        "    return populacao"
      ],
      "metadata": {
        "id": "-D5qN_nPsX2E"
      },
      "execution_count": null,
      "outputs": []
    },
    {
      "cell_type": "markdown",
      "source": [
        "Logo em seguida foi feita a implementação da seleção por torneio que também faz uso de outras duas funções que são: ***calcularDist***, que faz o cálculo de uma cidade a outra usando a fórmula de distância Euclidiana."
      ],
      "metadata": {
        "id": "KaUR0mEQNX0z"
      }
    },
    {
      "cell_type": "code",
      "source": [
        "def calcularDist(c1, c2):\n",
        "  a = (c1[0] - c2[0]) ** 2\n",
        "  b = (c1[1] - c2[1]) ** 2\n",
        "  return np.sqrt(a + b)"
      ],
      "metadata": {
        "id": "GE7L-B8yPKWe"
      },
      "execution_count": null,
      "outputs": []
    },
    {
      "cell_type": "markdown",
      "source": [
        " A função calcularDistTotal que faz o cálculo total da rota, na seleção da ***cidadeProx*** é verificada a condição se ***i*** é o último elemento, caso seja ele volta para o primeiro elemento do vetor, caso não ele percorre normalmente.\n"
      ],
      "metadata": {
        "id": "6bXjHdVhYHKr"
      }
    },
    {
      "cell_type": "code",
      "source": [
        "def calcularDistTotal(rota, cidades):\n",
        "  distTotal = 0\n",
        "  for i in range(len(rota)):\n",
        "    cidadeSelecionada = cidades[rota[i]]\n",
        "    if i == len(cidades) - 1:\n",
        "      cidadeProx = cidades[rota[0]]\n",
        "    else:\n",
        "      cidadeProx = cidades[rota[i + 1]]\n",
        "    distTotal += calcularDist(cidadeSelecionada, cidadeProx)\n",
        "\n",
        "  return distTotal"
      ],
      "metadata": {
        "id": "Bi-_RwyjPKM1"
      },
      "execution_count": null,
      "outputs": []
    },
    {
      "cell_type": "markdown",
      "source": [
        "Como estratégia de implementação da seleção do torneio, primeiro é atribuído à variável ***competidores*** elementos aleatórios da ***populacao*** restrigido ao tamanho de ***tamTorneio***. Em seguida é calculado o valor de aptidão para cada competidor selecionado e por fim é atribuído ao ***vencedor*** o menor valor na lista com o auxílio da função ***argmin*** e adiciona o atual vencedor ao vetor de ***pais***."
      ],
      "metadata": {
        "id": "x1TEZ0Y5blwE"
      }
    },
    {
      "cell_type": "code",
      "source": [
        "import random"
      ],
      "metadata": {
        "id": "ztRoOMq5fL88"
      },
      "execution_count": null,
      "outputs": []
    },
    {
      "cell_type": "code",
      "source": [
        "def selecaoTorneio(populacao, cidades, tamTorneio):\n",
        "    pais = []\n",
        "    for i in range(len(populacao)):\n",
        "        competidores = random.sample(populacao, tamTorneio)\n",
        "        competidoresFitness = []\n",
        "        for rota in competidores:\n",
        "          fitness = calcularDistTotal(rota, cidades)\n",
        "          competidoresFitness.append(fitness)\n",
        "        vencedor = competidores[np.argmin(competidoresFitness)]\n",
        "        pais.append(vencedor)\n",
        "    return pais"
      ],
      "metadata": {
        "id": "ZntRIZ4dOgHq"
      },
      "execution_count": null,
      "outputs": []
    },
    {
      "cell_type": "markdown",
      "source": [
        "Feita a seleção, agora partimos para a função de ***crossover*** para criar rotas descendentes combinando segmentos de duas rotas pais. Dessa forma é criada a repetição para que percorra os pais de dois em dois, atribui o valor as variáveis p1 e p2, logo em seguida é criado os filhos do tamanho dos pais com os mesmos valores fazendo o uso da função ***copy*** e após isso é feito o corte e é chamada a função ***preencheNums*** para que seja alterado os valores dos filhos desde que não se repita as cidades."
      ],
      "metadata": {
        "id": "O8NDSbDThgPw"
      }
    },
    {
      "cell_type": "code",
      "source": [
        "def preencheNums(f, p, pc):\n",
        "  nCopy = f[pc:]\n",
        "  nRestantes = np.setdiff1d(p, nCopy)\n",
        "  for i, num in enumerate(f[:pc]):\n",
        "      if num in nCopy:\n",
        "          posNum = np.where(nCopy == num)[0]\n",
        "          if len(posNum) > 0:\n",
        "              posNum  = posNum [0]\n",
        "              nEscolhido = nRestantes[posNum]\n",
        "              f[i] = nEscolhido\n",
        "\n",
        "def crossover(pais):\n",
        "  filhos = []\n",
        "  for i in range(0, len(pais), 2):\n",
        "    p1 = pais[i]\n",
        "    p2 = pais[i + 1]\n",
        "    f1 = np.copy(p1)\n",
        "    f2 = np.copy(p2)\n",
        "\n",
        "    pCorte = np.random.randint(1, len(p1) - 1)\n",
        "    f1[pCorte:] = p1[pCorte:]\n",
        "    f2[pCorte:] = p2[pCorte:]\n",
        "\n",
        "    preencheNums(f1, p1, pCorte)\n",
        "    preencheNums(f2, p2, pCorte)\n",
        "    filhos.extend([f1, f2])\n",
        "\n",
        "  return filhos"
      ],
      "metadata": {
        "id": "ZzQe86ygh-5E"
      },
      "execution_count": null,
      "outputs": []
    },
    {
      "cell_type": "markdown",
      "source": [
        "Agora iremos implementar o operador de mutação para introduzir pequenas alterações aleatórias na ordem das cidades dentro de uma rota."
      ],
      "metadata": {
        "id": "hxqCi_xTq_6l"
      }
    },
    {
      "cell_type": "code",
      "source": [
        "def mutacao(filhos, taxa):\n",
        "  for i in range(len(filhos)):\n",
        "    if(random.random() < taxa):\n",
        "      filho = filhos[i]\n",
        "      pos = random.sample(range(1, len(filho)), 2)\n",
        "      pos1, pos2 = pos[0], pos[1]\n",
        "      temp2 = filho[pos1]\n",
        "      filho[pos1] = filho[pos2]\n",
        "      filho[pos2] = temp2\n",
        "\n",
        "  return filhos"
      ],
      "metadata": {
        "id": "e6CeCc5Js53u"
      },
      "execution_count": null,
      "outputs": []
    },
    {
      "cell_type": "markdown",
      "source": [
        "E agora por fim, devemos criar a função do ***tspGenetico*** que de início faz a geração da população e logo em seguida cria as variáveis de ***melhorRota*** e ***melhorDistancia***, logo após é feito um loop que percorre o ***numGeracoes***, a função ***selecaoTorneio*** é chamada para selecionar os pais para a próxima geração. Em seguida a função ***crossover*** é chamada para fazer o cruzamento dos pais selecionados, subsequentemente a função ***mutacao*** é chamada para aplicar a mutação aos filhos gerados pelo cruzamento. E agora é percorrida cada rota na população atual, em que se a distância for menor do que a melhor (que é um número altíssmo em primeira instância) eles são atualizados."
      ],
      "metadata": {
        "id": "1lrGUTFRzepK"
      }
    },
    {
      "cell_type": "code",
      "source": [
        "def tspGenetico(cidades, tamPopulacao, numGeracoes, tamTorneio, taxa):\n",
        "  populacao = geraPopulacao(len(cidades), tamPopulacao)\n",
        "  melhorRota = None\n",
        "  melhorDistancia = 99999999\n",
        "\n",
        "  for geracao in range(numGeracoes):\n",
        "    pais = selecaoTorneio(populacao, cidades, tamTorneio)\n",
        "    filhos = crossover(pais)\n",
        "    filhosMutados = mutacao(filhos, taxa)\n",
        "\n",
        "    for rota in filhosMutados:\n",
        "      distancia = calcularDistTotal(rota, cidades)\n",
        "      if(distancia < melhorDistancia):\n",
        "        melhorRota = rota\n",
        "        melhorDistancia = distancia\n",
        "        print(\"Rota e distancia selecionada como a melhor no momento atual: \", melhorRota, \"->\", melhorDistancia)\n",
        "\n",
        "  return melhorRota, melhorDistancia"
      ],
      "metadata": {
        "id": "bHGGrX160nXZ"
      },
      "execution_count": null,
      "outputs": []
    },
    {
      "cell_type": "markdown",
      "source": [
        "Feito o algoritmo vamos aos testes e análise dos resultados, como mostrado no caso a baixo o algoritmo por meio da funcionalidade do algoritmo genético foi alterando as cidades no ***crossover*** utilizando de um ponto de corte e na mutação de um fator aleatório que é comparado com a nossa ***taxa***."
      ],
      "metadata": {
        "id": "B_HASxRQZ8NR"
      }
    },
    {
      "cell_type": "code",
      "source": [
        "cidades = np.random.rand(20,2)\n",
        "rota, distancia = tspGenetico(cidades, 100, 200, 5, 0.05)\n",
        "print(\"Melhor combinação de rota/distância obtida: \", rota, \"->\", distancia)"
      ],
      "metadata": {
        "colab": {
          "base_uri": "https://localhost:8080/"
        },
        "id": "u01dNOQ5aIKy",
        "outputId": "b5e4f177-d147-4b4e-fa87-6e4627f09831"
      },
      "execution_count": null,
      "outputs": [
        {
          "output_type": "stream",
          "name": "stdout",
          "text": [
            "Rota e distancia selecionada como a melhor no momento atual:  [ 3 13  6 18  4 12  0 16 17 19  2  9 14 15  7  1 11  5 10  8] -> 9.267486796538094\n",
            "Rota e distancia selecionada como a melhor no momento atual:  [18 14  5 19  8 10  2  3  7 11 15  0 13  6  9 17 12  4 16  1] -> 9.086898030223908\n",
            "Rota e distancia selecionada como a melhor no momento atual:  [13  3  8 14 12 15  6  9  0  1  2 10  7 17 18  4 11 16  5 19] -> 8.889565562254413\n",
            "Rota e distancia selecionada como a melhor no momento atual:  [10  7 19  3 18 12  9  2  0 14 13  6 17  4 11 16  8 15  5  1] -> 8.52274545538634\n",
            "Rota e distancia selecionada como a melhor no momento atual:  [13  3  8 14 12  9  6 15  0  1  2 10  7 17 18  4 11 16  5 19] -> 8.220431888525813\n",
            "Rota e distancia selecionada como a melhor no momento atual:  [10  7 19  3 18 12  9 17  0 14 13  6 15  4 11 16  8  2  5  1] -> 7.861285456022091\n",
            "Rota e distancia selecionada como a melhor no momento atual:  [18  4  7 15 17  3  5 16 11  2  1  0 10  8 19  9  6 13 12 14] -> 7.432746729928887\n",
            "Melhor combinação de rota/distância obtida:  [18  4  7 15 17  3  5 16 11  2  1  0 10  8 19  9  6 13 12 14] -> 7.432746729928887\n"
          ]
        }
      ]
    },
    {
      "cell_type": "markdown",
      "source": [
        "Algo interessante que podemos testar nesse segundo caso é que aumentar o tamanho do torneio (5 -> 10) favorece indivíduos mais fortes, enquanto reduzir o tamanho do torneio proporciona uma melhor chance para que indivíduos mais fracos sejam selecionados como pais."
      ],
      "metadata": {
        "id": "bK2_L6lvbq7d"
      }
    },
    {
      "cell_type": "code",
      "source": [
        "cidades = np.random.rand(20,2)\n",
        "rota, distancia = tspGenetico(cidades, 100, 200, 10, 0.05)\n",
        "print(\"Melhor combinação de rota/distância obtida: \", rota, \"->\", distancia)"
      ],
      "metadata": {
        "colab": {
          "base_uri": "https://localhost:8080/"
        },
        "id": "Jzc4NdAjXLmW",
        "outputId": "e4951673-4e2d-45f6-f299-23f9464f9e68"
      },
      "execution_count": null,
      "outputs": [
        {
          "output_type": "stream",
          "name": "stdout",
          "text": [
            "Rota e distancia selecionada como a melhor no momento atual:  [ 0 19 15  9  7  3 10  6 12 14  2  1 18  4 17 13 16  8  5 11] -> 7.688296188074146\n",
            "Rota e distancia selecionada como a melhor no momento atual:  [11  2  0  5 10  7  9 18 14  6 16  8 12  1 13 17  3 19  4 15] -> 7.220784640510772\n",
            "Rota e distancia selecionada como a melhor no momento atual:  [11  2  0  5 10  7  3 18 14  6 16  8 12  1 13 17  9 19  4 15] -> 7.165699644610236\n",
            "Rota e distancia selecionada como a melhor no momento atual:  [ 2  0  5 18 10 12  3  9  4 19  8 16 14  6 13  1 17 15  7 11] -> 6.540464778279621\n",
            "Rota e distancia selecionada como a melhor no momento atual:  [11  2  0  5 10  7  1 18 14  6 16  8 12  3 13 17  9 19  4 15] -> 6.4633494845746355\n",
            "Melhor combinação de rota/distância obtida:  [11  2  0  5 10  7  1 18 14  6 16  8 12  3 13 17  9 19  4 15] -> 6.4633494845746355\n"
          ]
        }
      ]
    },
    {
      "cell_type": "markdown",
      "source": [
        "De forma similar, se aumentarmos o tamanho da população (100 -> 150) isso pode permitir uma busca mais ampla no espaço de soluções e de mesma forma aumentar o número de gerações (200 -> 280) permite que o algoritmo evolua por mais interações, potencialmente melhorando a qualidade das soluções encontradas, mas com isso é também aumentado o tempo de execução do algoritmo."
      ],
      "metadata": {
        "id": "yUXB5CcWdg4H"
      }
    },
    {
      "cell_type": "code",
      "source": [
        "cidades = np.random.rand(20,2)\n",
        "rota, distancia = tspGenetico(cidades, 150, 280, 5, 0.05)\n",
        "print(\"Melhor combinação de rota/distância obtida: \", rota, \"->\", distancia)"
      ],
      "metadata": {
        "colab": {
          "base_uri": "https://localhost:8080/"
        },
        "id": "3kAcTq3Idgjt",
        "outputId": "0d3df77a-cc9e-4f84-f9e8-d117e1162ac3"
      },
      "execution_count": null,
      "outputs": [
        {
          "output_type": "stream",
          "name": "stdout",
          "text": [
            "Rota e distancia selecionada como a melhor no momento atual:  [11  1  3  6  4 13  0  7 18  2  5 19 17 14  9 15 10 16  8 12] -> 9.29706386748111\n",
            "Rota e distancia selecionada como a melhor no momento atual:  [12  4 15 10  0  6 11  2 14 17  7 18  3 16 13  5  9  8 19  1] -> 8.682721892100693\n",
            "Rota e distancia selecionada como a melhor no momento atual:  [ 9  0 16  5 14 12  3 19  1  8  6 18  4 15 11 13  2  7 10 17] -> 8.17719339690417\n",
            "Rota e distancia selecionada como a melhor no momento atual:  [ 9  0  2  5 14 12  3 19  1  8  6 18  4 15 11 13 16  7 10 17] -> 7.537533691941363\n",
            "Rota e distancia selecionada como a melhor no momento atual:  [19  9 18  2  1  0 15  4 17 10 16 13  7  6 12  8  5 14 11  3] -> 7.251703012176033\n",
            "Rota e distancia selecionada como a melhor no momento atual:  [ 6  5 16 10  7 13 18  1  9 14 12  8 19  3  0 17  2 11 15  4] -> 7.198355677989397\n",
            "Melhor combinação de rota/distância obtida:  [ 6  5 16 10  7 13 18  1  9 14 12  8 19  3  0 17  2 11 15  4] -> 7.198355677989397\n"
          ]
        }
      ]
    },
    {
      "cell_type": "markdown",
      "source": [
        "E por fim, podemos também alterar o parâmetro de taxa de mutação (0.05 -> 0.2) que controla a probabilidade de ocorrer mutações nas rotas durante o processo evolutivo, com uma taxa de mutação mais alta, permitimos ao algoritmo uma exploração mais ampla do espaço de soluções, enquanto uma mais baixa pode permitir uma maior exploração das soluções atuais."
      ],
      "metadata": {
        "id": "LI_b7vgihEzL"
      }
    },
    {
      "cell_type": "code",
      "source": [
        "cidades = np.random.rand(20,2)\n",
        "rota, distancia = tspGenetico(cidades, 100, 200, 5, 0.2)\n",
        "print(\"Melhor combinação de rota/distância obtida: \", rota, \"->\", distancia)"
      ],
      "metadata": {
        "colab": {
          "base_uri": "https://localhost:8080/"
        },
        "id": "X3MDJES9g9qp",
        "outputId": "001b2f45-564b-451a-bc3d-22609e7630d3"
      },
      "execution_count": null,
      "outputs": [
        {
          "output_type": "stream",
          "name": "stdout",
          "text": [
            "Rota e distancia selecionada como a melhor no momento atual:  [ 9  6 13 12 15 14 11  3 16  8  5  2  4  0 18 19  7 10  1 17] -> 8.722995274289772\n",
            "Rota e distancia selecionada como a melhor no momento atual:  [ 9  7 13  4  1 14  3 16 18 15  8 12  5  6 19 10 17 11  2  0] -> 7.728782085415925\n",
            "Rota e distancia selecionada como a melhor no momento atual:  [ 4  1 16 12 17 13  5  2  9 18  0  7 11  6  3  8 10 15 19 14] -> 7.581877099800215\n",
            "Rota e distancia selecionada como a melhor no momento atual:  [ 9 13  7  4  1 14  3 16 18 15  8 12  5  6 19 10 17 11  2  0] -> 7.499079205724361\n",
            "Rota e distancia selecionada como a melhor no momento atual:  [14  4  0 13  9 11  7 17  3 19  8 18  6  1 15 10 12  5 16  2] -> 6.63602443179168\n",
            "Rota e distancia selecionada como a melhor no momento atual:  [14  4  0 13  6 11  7 17  3 19  8 18 12  1 15 10  9  5 16  2] -> 6.608283234368816\n",
            "Melhor combinação de rota/distância obtida:  [14  4  0 13  6 11  7 17  3 19  8 18 12  1 15 10  9  5 16  2] -> 6.608283234368816\n"
          ]
        }
      ]
    },
    {
      "cell_type": "markdown",
      "source": [
        "# > Conclusão\n",
        "\n",
        "O algoritmo genético tem sido eficaz na obtenção de alta qualidade para resolver o problema do TSP. No entando, a eficácia do algortimo pode variar dependendo das características específicas do problema, como o número de cidades, a complexidade das rotas e a presença de restrições adicionais.\n",
        "\n",
        "Uma das principais vantagens do algoritmo genético é a capacidade de explorar um amplo espaço de soluções e encontrar soluções promissoras, isso ocorre devido à combinação de operadores genéticos, como seleção por torneio, crossover e mutação, que permitem a criação de novas soluções a partir de soluções existentes. Essa capacidade de explorar diferentes soluções ajuda a evitar ficar preso em mínimos locais e a encontrar soluções melhores.\n",
        "\n",
        "No entanto, um desafio enfrentado pelo algoritmo genético é a possibilidade de convergência prematura, na qual a população converge para uma solução sub-ótima antes de explorar todo espaço de busca. Para evitar a convergência prematura é possível ajustar os parâmetros do algoritmo, eles podem ajudar a manter a diversidade genética da população, permitindo a exploração contínua de diferentes soluções.\n",
        "\n",
        "Com isso podemos concluir que os parâmetros devem ser ajustados dependendo do tamanho do problema, da complexidade das rotas e do tempo disponível, sendo que para alguns casos genéricos temos as seguintes quantidades para cada parâmetro:\n",
        "\n",
        "- Tamanho da população (***tamPopulacao***): geralmente entre 50 e 200 dependendo do tamanho.\n",
        "- Numero de gerações (***numGeracoes***): varia de acordo com a complexidade do problema e tempo disponível, valores entre 100 e 1000 são comuns.\n",
        "- Tamanho do torneio (***tamTorneio***): valores entre 3 e 10 costumam ser adequados, valores menor favorecem diversidade genética, enquanto valores maiores favorecem a exploração de soluções mais promissoras.\n",
        "- Taxa de mutação (***taxa***): geralmente fica entre 0.01 e 0.2, valores mais altos aumentam a diversidade da população enquanto valores mais baixos favorecem a exploração de soluções existentes."
      ],
      "metadata": {
        "id": "2RKsC30vhvpB"
      }
    },
    {
      "cell_type": "markdown",
      "source": [
        "# > Referências\n",
        "\n",
        "- https://revistas.unibh.br/dcet/article/view/304/163\n",
        "\n",
        "- https://revistas.anchieta.br/index.php/RevistaUbiquidade/article/view/2031/1754\n",
        "\n",
        "- https://sites.icmc.usp.br/andre/research/genetic/\n",
        "\n",
        "- http://www.nce.ufrj.br/GINAPE/VIDA/alggenet.htm\n",
        "\n",
        "- https://www.youtube.com/watch?v=uQj5UNhCPuo\n"
      ],
      "metadata": {
        "id": "vNd-xB3MsTQ7"
      }
    }
  ]
}