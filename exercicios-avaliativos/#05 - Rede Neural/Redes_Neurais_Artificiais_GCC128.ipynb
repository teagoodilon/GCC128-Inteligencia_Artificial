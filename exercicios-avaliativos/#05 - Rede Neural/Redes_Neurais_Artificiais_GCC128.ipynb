{
  "nbformat": 4,
  "nbformat_minor": 0,
  "metadata": {
    "colab": {
      "provenance": [],
      "toc_visible": true
    },
    "kernelspec": {
      "name": "python3",
      "display_name": "Python 3"
    },
    "language_info": {
      "name": "python"
    }
  },
  "cells": [
    {
      "cell_type": "markdown",
      "source": [
        "# > Redes Neurais Artificiais\n",
        "\n",
        "Atividade de GCC128 - Inteligência Artificial\n",
        "\n",
        "Aluno: Thiago Odilon de Almeida - 202021025"
      ],
      "metadata": {
        "id": "M41jj1keD7nK"
      }
    },
    {
      "cell_type": "markdown",
      "source": [
        "Após considerar a rede neural que foi passada, o primeiro passo é escrever uma função para simular a rede neural fazendo o uso da função ***sigmoidal(x)*** e ***relu(x)*** que é a função de transferência de unidade linear retificada e também já definimos a ***matrizErros***\n"
      ],
      "metadata": {
        "id": "1SZNE9XnESGH"
      }
    },
    {
      "cell_type": "code",
      "execution_count": null,
      "metadata": {
        "id": "buZ0J1OTD1-Q"
      },
      "outputs": [],
      "source": [
        "import numpy as np\n",
        "import matplotlib.pyplot as plt"
      ]
    },
    {
      "cell_type": "code",
      "source": [
        "def sigmoidal(x):\n",
        "  return 1/(1 + np.exp(-x))\n",
        "\n",
        "def relu(x):\n",
        "  if x >= 0:\n",
        "    return x\n",
        "  else:\n",
        "    return 0\n",
        "\n",
        "matrizErros = [\n",
        "    [],\n",
        "    [0, 0, 3.0, -4.0, -1.0],\n",
        "    [0, 0, 0, 1.0, -3.0],\n",
        "    [0, 0, 0, 0, 0, 2.0],\n",
        "    [0, 0, 0, 0, 0, -10.0],\n",
        "]\n",
        "\n",
        "def a5(x):\n",
        "  return x\n",
        "\n",
        "def a4(x):\n",
        "  return sigmoidal(a5(x) * matrizErros[4][5])\n",
        "\n",
        "def a3(x):\n",
        "  return sigmoidal(a5(x) * matrizErros[3][5])\n",
        "\n",
        "def a2(x):\n",
        "  return relu((a3(x) * matrizErros[2][3]) + (a4(x) * matrizErros[2][4]))\n",
        "\n",
        "def a1(x):\n",
        "  return sigmoidal(a2(x) * matrizErros[1][2] + a3(x) * matrizErros[1][3] + a4(x) * matrizErros[1][4])"
      ],
      "metadata": {
        "id": "SwG73OVejizO"
      },
      "execution_count": null,
      "outputs": []
    },
    {
      "cell_type": "markdown",
      "source": [
        "Agora vamos ao segundo: Deduza as equações para calcular δi (o valor do erro por neurônio) para todos os neurônios. Escreva a funcão que, dada uma amostra de treinamento e os pesos da rede calcula ***delta i*** para cada neurônio."
      ],
      "metadata": {
        "id": "8K3XSp2GnWAA"
      }
    },
    {
      "cell_type": "code",
      "source": [
        "def reluDerivada(x):\n",
        "  if x > 0:\n",
        "    return 1\n",
        "  else:\n",
        "    return 0\n",
        "\n",
        "def sigmoidalDerivada(x):\n",
        "  return x * (1 - x)"
      ],
      "metadata": {
        "id": "4sVN169JyOFZ"
      },
      "execution_count": null,
      "outputs": []
    },
    {
      "cell_type": "code",
      "source": [
        "def calculoDeltas(x, y):\n",
        "  y1 = a1(x)\n",
        "  erro = y - y1\n",
        "  delta1 = erro * sigmoidalDerivada(y1)\n",
        "\n",
        "  y2 = a2(x)\n",
        "  delta2 = reluDerivada(y2) * delta1 * matrizErros[1][2]\n",
        "\n",
        "  y3 = a3(x)\n",
        "  delta3 = sigmoidalDerivada(y3) * ((matrizErros[2][3] * delta2) + (matrizErros[1][3] * delta1))\n",
        "\n",
        "  y4 = a4(x)\n",
        "  delta4 = sigmoidalDerivada(y4) * ((matrizErros[2][4] * delta2) + (matrizErros[1][4] * delta1))\n",
        "\n",
        "  y5 = a5(x)\n",
        "\n",
        "  return (y1, y2, y3, y4, y5, delta1, delta2, delta3, delta4, erro)"
      ],
      "metadata": {
        "id": "lFAjaspFz2fa"
      },
      "execution_count": null,
      "outputs": []
    },
    {
      "cell_type": "markdown",
      "source": [
        "Agora devemos usar as funções dos itens 1 e 2 para calcular a saída de cada neurônio, ***zi***, e o erro ***δi***, para a amostra de pesquisa:\n",
        "\n",
        "| x | y |\n",
        "|---|---|\n",
        "|0.0|0.5|\n",
        "|1.0|0.1|"
      ],
      "metadata": {
        "id": "ptVKRfC68d4m"
      }
    },
    {
      "cell_type": "code",
      "source": [
        "saidaA1, saidaA2, saidaA3, saidaA4, saidaA5, delta1, delta2, delta3, delta4, erro = calculoDeltas(0, 0.5)\n",
        "print(f'Erro: {erro:}')\n",
        "print('====Deltas====')\n",
        "print(f'Delta a1: {delta1:}')\n",
        "print(f'Delta a2: {delta2:}')\n",
        "print(f'Delta a3: {delta3:}')\n",
        "print(f'Delta a4: {delta4:}')"
      ],
      "metadata": {
        "colab": {
          "base_uri": "https://localhost:8080/"
        },
        "id": "lJ6yZHqI9MEw",
        "outputId": "60d7d61f-8958-475b-9bd5-624547d39d66"
      },
      "execution_count": null,
      "outputs": [
        {
          "output_type": "stream",
          "name": "stdout",
          "text": [
            "Erro: -0.2357672261584446\n",
            "====Deltas====\n",
            "Delta a1: -0.04583640590582929\n",
            "Delta a2: -0.0\n",
            "Delta a3: -0.0008805105725316617\n",
            "Delta a4: -0.02258963985340814\n"
          ]
        }
      ]
    },
    {
      "cell_type": "code",
      "source": [
        "saidaA1, saidaA2, saidaA3, saidaA4, saidaA5, delta1, delta2, delta3, delta4, erro = calculoDeltas(1.0, 0.1)\n",
        "print(f'Erro: {erro:}')\n",
        "print('====Deltas====')\n",
        "print(f'Delta a1: {delta1}')\n",
        "print(f'Delta a2: {delta2}')\n",
        "print(f'Delta a3: {delta3}')\n",
        "print(f'Delta a4: {delta4}')"
      ],
      "metadata": {
        "colab": {
          "base_uri": "https://localhost:8080/"
        },
        "id": "1gv9ICA4_wsw",
        "outputId": "8c532ef5-d0ba-44ef-93d7-6ed8ff9dd665"
      },
      "execution_count": null,
      "outputs": [
        {
          "output_type": "stream",
          "name": "stdout",
          "text": [
            "Erro: -0.19291859632476885\n",
            "Delta a1: -0.03995677729582269\n",
            "Delta a2: -0.11987033188746807\n",
            "Delta a3: 0.004195205309457855\n",
            "Delta a4: 1.8138701798694057e-05\n"
          ]
        }
      ]
    },
    {
      "cell_type": "markdown",
      "source": [
        "Agora devemos escrever uma função para treinar a rede neural usando o algoritmo gradient descent e também treinar a rede com a amostra de dados fornecida."
      ],
      "metadata": {
        "id": "rwtt24G_AGia"
      }
    },
    {
      "cell_type": "code",
      "source": [
        "amostra = [[-3.0, 0.73212],\n",
        "           [-2.0, 0.7339],\n",
        "           [-1.0, 0.7838],\n",
        "           [-0.5, 0.8903],\n",
        "           [0.0, 0.9820],\n",
        "           [0.5, 0.8114],\n",
        "           [1.0, 0.5937],\n",
        "           [1.5, 0.5219],\n",
        "           [2.0, 0.5049],\n",
        "           [3.0, 0.5002]]"
      ],
      "metadata": {
        "id": "mxnigvP1CnfC"
      },
      "execution_count": null,
      "outputs": []
    },
    {
      "cell_type": "code",
      "source": [
        "def gradientDescent(amostras, taxaAprendizado, numInteracoes):\n",
        "  erros = []\n",
        "  predicoes = []\n",
        "  for i in range(numInteracoes):\n",
        "    somaErro = 0\n",
        "    for x,y in amostras:\n",
        "      saidaA1, saidaA2, saidaA3, saidaA4, saidaA5, delta1, delta2, delta3, delta4, erro = calculoDeltas(x,y)\n",
        "      matrizErros [1][2] += taxaAprendizado * (delta1 * saidaA2)\n",
        "      matrizErros [1][3] += taxaAprendizado * (delta1 * saidaA3)\n",
        "      matrizErros [1][4] += taxaAprendizado * (delta1 * saidaA4)\n",
        "      matrizErros [2][3] += taxaAprendizado * (delta2 * saidaA3)\n",
        "      matrizErros [2][4] += taxaAprendizado * (delta2 * saidaA4)\n",
        "      matrizErros [3][5] += taxaAprendizado * (delta3 * saidaA5)\n",
        "      matrizErros [4][5] += taxaAprendizado * (delta4 * saidaA5)\n",
        "      somaErro += erro\n",
        "    erros.append(somaErro)\n",
        "\n",
        "  for x,y in amostra:\n",
        "    saidaA1, saidaA2, saidaA3, saidaA4, saidaA5, delta1, delta2, delta3, delta4, erro = calculoDeltas(x,y)\n",
        "    predicoes.append((y, saidaA1))\n",
        "\n",
        "  return erros, predicoes"
      ],
      "metadata": {
        "id": "XmzBvk4pAewl"
      },
      "execution_count": null,
      "outputs": []
    },
    {
      "cell_type": "markdown",
      "source": [
        "Agora iremos chamar a função ***gradienDescent*** e plotar a evolução do erro e as predições para a rede treinada escrevendo seus pesos e também resetar o valor da nossa ***matrizErros***."
      ],
      "metadata": {
        "id": "n3_wzczqEMzf"
      }
    },
    {
      "cell_type": "code",
      "source": [
        "matrizErros = [\n",
        "    [],\n",
        "    [0, 0, 3.0, -4.0, -1.0],\n",
        "    [0, 0, 0, 1.0, -3.0],\n",
        "    [0, 0, 0, 0, 0, 2.0],\n",
        "    [0, 0, 0, 0, 0, -10.0],\n",
        "]\n",
        "erros, predicoes = gradientDescent(amostra, 1, 100)"
      ],
      "metadata": {
        "id": "rrwp00H5Dr7T"
      },
      "execution_count": null,
      "outputs": []
    },
    {
      "cell_type": "code",
      "source": [
        "plt.show()\n",
        "plt.plot(erros)\n",
        "plt.show()\n",
        "\n",
        "print(\"matrizErros[1][2]:\",  matrizErros[1][2])\n",
        "print(\"matrizErros[1][3]:\",  matrizErros[1][3])\n",
        "print(\"matrizErros[1][4]:\",  matrizErros[1][4])\n",
        "print(\"matrizErros[2][3]:\",  matrizErros[2][3])\n",
        "print(\"matrizErros[2][4]:\",  matrizErros[2][4])\n",
        "print(\"matrizErros[3][5]:\",  matrizErros[3][5])\n",
        "print(\"matrizErros[4][5]:\",  matrizErros[4][5])\n",
        "\n",
        "yValues = [t[0] for t in predicoes]\n",
        "yPredValues = [t[1] for t in predicoes]\n",
        "plt.plot(yValues,label='y')\n",
        "plt.plot(yPredValues, label='yPred')\n",
        "plt.legend()\n",
        "plt.show()"
      ],
      "metadata": {
        "colab": {
          "base_uri": "https://localhost:8080/",
          "height": 972
        },
        "id": "9SF48LeQEan6",
        "outputId": "efba89ff-f015-4618-9f17-5550bca7e30d"
      },
      "execution_count": null,
      "outputs": [
        {
          "output_type": "display_data",
          "data": {
            "text/plain": [
              "<Figure size 640x480 with 1 Axes>"
            ],
            "image/png": "[encoded data removed]"
          },
          "metadata": {}
        },
        {
          "output_type": "stream",
          "name": "stdout",
          "text": [
            "matrizErros[1][2]: 2.147954973578973\n",
            "matrizErros[1][3]: 0.07683940790127979\n",
            "matrizErros[1][4]: 1.9713273243821485\n",
            "matrizErros[2][3]: 0.037450694386447284\n",
            "matrizErros[2][4]: -2.879119432324042\n",
            "matrizErros[3][5]: 2.466924629434892\n",
            "matrizErros[4][5]: -10.129692784744641\n"
          ]
        },
        {
          "output_type": "display_data",
          "data": {
            "text/plain": [
              "<Figure size 640x480 with 1 Axes>"
            ],
            "image/png": "[encoded data removed]"
          },
          "metadata": {}
        }
      ]
    },
    {
      "cell_type": "markdown",
      "source": [
        "# Referências\n",
        "- https://www.youtube.com/watch?v=II28i__Tf3M&list=PLZ3V9XyVA529kELNCTwtV46fTbpzHAcrd"
      ],
      "metadata": {
        "id": "pA2D_V7HOvnE"
      }
    },
    {
      "cell_type": "code",
      "source": [],
      "metadata": {
        "id": "3JeGEEzFX8tO"
      },
      "execution_count": null,
      "outputs": []
    }
  ]
}